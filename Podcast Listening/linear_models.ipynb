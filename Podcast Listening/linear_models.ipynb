{
 "cells": [
  {
   "cell_type": "code",
   "execution_count": 1,
   "metadata": {},
   "outputs": [],
   "source": [
    "import polars as pl\n",
    "import numpy as np"
   ]
  },
  {
   "cell_type": "code",
   "execution_count": 2,
   "metadata": {},
   "outputs": [],
   "source": [
    "train_df = pl.read_csv(\"data/data/train.csv\")\n",
    "test_df = pl.read_csv(\"data/data/test.csv\")"
   ]
  },
  {
   "cell_type": "code",
   "execution_count": 3,
   "metadata": {},
   "outputs": [
    {
     "name": "stdout",
     "output_type": "stream",
     "text": [
      "Null counts in test_df:\n",
      "id: 0\n",
      "Podcast_Name: 0\n",
      "Episode_Title: 0\n",
      "Episode_Length_minutes: 28736\n",
      "Genre: 0\n",
      "Host_Popularity_percentage: 0\n",
      "Publication_Day: 0\n",
      "Publication_Time: 0\n",
      "Guest_Popularity_percentage: 48832\n",
      "Number_of_Ads: 0\n",
      "Episode_Sentiment: 0\n"
     ]
    }
   ],
   "source": [
    "# Get null count for each column in the test dataframe\n",
    "null_counts = test_df.null_count()\n",
    "\n",
    "# Display the results in a more readable format\n",
    "print(\"Null counts in test_df:\")\n",
    "for column, count in zip(test_df.columns, null_counts.row(0)):\n",
    "    print(f\"{column}: {count}\")\n"
   ]
  },
  {
   "cell_type": "code",
   "execution_count": 4,
   "metadata": {},
   "outputs": [
    {
     "name": "stdout",
     "output_type": "stream",
     "text": [
      "                              OLS Regression Results                              \n",
      "==================================================================================\n",
      "Dep. Variable:     Listening_Time_minutes   R-squared:                       0.840\n",
      "Model:                                OLS   Adj. R-squared:                  0.840\n",
      "Method:                     Least Squares   F-statistic:                 3.491e+06\n",
      "Date:                    Wed, 16 Apr 2025   Prob (F-statistic):               0.00\n",
      "Time:                            21:21:54   Log-Likelihood:            -2.5237e+06\n",
      "No. Observations:                  662907   AIC:                         5.047e+06\n",
      "Df Residuals:                      662905   BIC:                         5.047e+06\n",
      "Df Model:                               1                                         \n",
      "Covariance Type:                nonrobust                                         \n",
      "==========================================================================================\n",
      "                             coef    std err          t      P>|t|      [0.025      0.975]\n",
      "------------------------------------------------------------------------------------------\n",
      "const                     -3.1721      0.029   -107.908      0.000      -3.230      -3.115\n",
      "Episode_Length_minutes     0.7582      0.000   1868.522      0.000       0.757       0.759\n",
      "==============================================================================\n",
      "Omnibus:                     6706.283   Durbin-Watson:                   2.000\n",
      "Prob(Omnibus):                  0.000   Jarque-Bera (JB):            11079.852\n",
      "Skew:                          -0.055   Prob(JB):                         0.00\n",
      "Kurtosis:                       3.624   Cond. No.                         159.\n",
      "==============================================================================\n",
      "\n",
      "Notes:\n",
      "[1] Standard Errors assume that the covariance matrix of the errors is correctly specified.\n"
     ]
    }
   ],
   "source": [
    "import statsmodels.api as sm\n",
    "import statsmodels.formula.api as smf\n",
    "\n",
    "# Drop nulls from the dataframe\n",
    "clean_df = train_df.drop_nulls([\"Episode_Length_minutes\", \"Listening_Time_minutes\"])\n",
    "\n",
    "# Create a new column for the constant term (intercept)\n",
    "clean_df = clean_df.with_columns(pl.lit(1).alias(\"const\"))\n",
    "\n",
    "# Convert to pandas for statsmodels\n",
    "pd_df = clean_df.to_pandas()\n",
    "\n",
    "# Run OLS regression\n",
    "X = pd_df[[\"const\", \"Episode_Length_minutes\"]]\n",
    "y = pd_df[\"Listening_Time_minutes\"]\n",
    "model = sm.OLS(y, X).fit()\n",
    "\n",
    "# Display the regression results\n",
    "print(model.summary())\n"
   ]
  },
  {
   "cell_type": "code",
   "execution_count": 5,
   "metadata": {},
   "outputs": [
    {
     "name": "stdout",
     "output_type": "stream",
     "text": [
      "Root Mean Squared Error (RMSE): 10.8930\n"
     ]
    }
   ],
   "source": [
    "# Calculate predictions\n",
    "predictions = model.predict(X)\n",
    "\n",
    "# Calculate RMSE (Root Mean Squared Error)\n",
    "mse = np.mean((y - predictions) ** 2)\n",
    "rmse = np.sqrt(mse)\n",
    "\n",
    "print(f\"Root Mean Squared Error (RMSE): {rmse:.4f}\")\n"
   ]
  },
  {
   "cell_type": "code",
   "execution_count": 6,
   "metadata": {},
   "outputs": [],
   "source": [
    "##IMPUTE THEN RERUN\n",
    "from sklearn.ensemble import RandomForestRegressor\n",
    "\n",
    "train = train_df.filter(pl.col(\"Episode_Length_minutes\").is_not_null()).to_pandas()\n",
    "test  = train_df.filter(pl.col(\"Episode_Length_minutes\").is_null()).to_pandas()\n",
    "\n",
    "features = [\"Host_Popularity_percentage\", \"Guest_Popularity_percentage\", \"Number_of_Ads\"]\n",
    "X_train = train[features]\n",
    "y_train = train[\"Episode_Length_minutes\"]\n",
    "X_test  = test[features]\n",
    "\n",
    "# fit & predict\n",
    "rf = RandomForestRegressor(n_estimators=100, random_state=42, n_jobs=-1)\n",
    "rf.fit(X_train, y_train)\n",
    "preds = rf.predict(X_test)\n",
    "\n",
    "test[\"Episode_Length_imp\"] = preds\n",
    "train[\"Episode_Length_imp\"] = train[\"Episode_Length_minutes\"]\n",
    "\n",
    "# combine\n",
    "import pandas as pd\n",
    "combined = pd.concat([train, test], sort=False)\n",
    "df = pl.from_pandas(combined)"
   ]
  },
  {
   "cell_type": "code",
   "execution_count": 7,
   "metadata": {},
   "outputs": [
    {
     "name": "stdout",
     "output_type": "stream",
     "text": [
      "Null values in each column:\n",
      "id: 0\n",
      "Podcast_Name: 0\n",
      "Episode_Title: 0\n",
      "Episode_Length_minutes: 87093\n",
      "Genre: 0\n",
      "Host_Popularity_percentage: 0\n",
      "Publication_Day: 0\n",
      "Publication_Time: 0\n",
      "Guest_Popularity_percentage: 146030\n",
      "Number_of_Ads: 1\n",
      "Episode_Sentiment: 0\n",
      "Listening_Time_minutes: 0\n",
      "Episode_Length_imp: 0\n"
     ]
    }
   ],
   "source": [
    "# Print the count of null values for each column in the dataframe\n",
    "print(\"Null values in each column:\")\n",
    "for column in df.columns:\n",
    "    null_count = df.filter(pl.col(column).is_null()).height\n",
    "    print(f\"{column}: {null_count}\")\n"
   ]
  },
  {
   "cell_type": "code",
   "execution_count": 8,
   "metadata": {},
   "outputs": [
    {
     "name": "stdout",
     "output_type": "stream",
     "text": [
      "shape: (750_000,)\n",
      "Series: 'Episode_Length_imp' [f64]\n",
      "[\n",
      "\t119.8\n",
      "\t73.9\n",
      "\t67.17\n",
      "\t110.51\n",
      "\t26.54\n",
      "\t…\n",
      "\t43.3394\n",
      "\t61.083731\n",
      "\t68.0408\n",
      "\t64.6382\n",
      "\t37.866\n",
      "]\n"
     ]
    }
   ],
   "source": [
    "print(df['Episode_Length_imp'])"
   ]
  },
  {
   "cell_type": "code",
   "execution_count": 9,
   "metadata": {},
   "outputs": [
    {
     "name": "stdout",
     "output_type": "stream",
     "text": [
      "                              OLS Regression Results                              \n",
      "==================================================================================\n",
      "Dep. Variable:     Listening_Time_minutes   R-squared:                       0.740\n",
      "Model:                                OLS   Adj. R-squared:                  0.740\n",
      "Method:                     Least Squares   F-statistic:                 2.131e+06\n",
      "Date:                    Wed, 16 Apr 2025   Prob (F-statistic):               0.00\n",
      "Time:                            21:22:30   Log-Likelihood:            -3.0353e+06\n",
      "No. Observations:                  750000   AIC:                         6.071e+06\n",
      "Df Residuals:                      749998   BIC:                         6.071e+06\n",
      "Df Model:                               1                                         \n",
      "Covariance Type:                nonrobust                                         \n",
      "======================================================================================\n",
      "                         coef    std err          t      P>|t|      [0.025      0.975]\n",
      "--------------------------------------------------------------------------------------\n",
      "const                 -2.4539      0.036    -67.232      0.000      -2.525      -2.382\n",
      "Episode_Length_imp     0.7428      0.001   1459.681      0.000       0.742       0.744\n",
      "==============================================================================\n",
      "Omnibus:                    51996.379   Durbin-Watson:                   1.995\n",
      "Prob(Omnibus):                  0.000   Jarque-Bera (JB):           246396.023\n",
      "Skew:                           0.150   Prob(JB):                         0.00\n",
      "Kurtosis:                       5.792   Cond. No.                         164.\n",
      "==============================================================================\n",
      "\n",
      "Notes:\n",
      "[1] Standard Errors assume that the covariance matrix of the errors is correctly specified.\n"
     ]
    }
   ],
   "source": [
    "clean_df = df.drop_nulls([\"Episode_Length_imp\", \"Listening_Time_minutes\"])\n",
    "\n",
    "# Create a new column for the constant term (intercept)\n",
    "clean_df = clean_df.with_columns(pl.lit(1).alias(\"const\"))\n",
    "\n",
    "# Convert to pandas for statsmodels\n",
    "pd_df = clean_df.to_pandas()\n",
    "\n",
    "# Run OLS regression\n",
    "X = pd_df[[\"const\", \"Episode_Length_imp\"]]\n",
    "y = pd_df[\"Listening_Time_minutes\"]\n",
    "model = sm.OLS(y, X).fit()\n",
    "\n",
    "# Display the regression results\n",
    "print(model.summary())\n"
   ]
  },
  {
   "cell_type": "code",
   "execution_count": 10,
   "metadata": {},
   "outputs": [
    {
     "name": "stdout",
     "output_type": "stream",
     "text": [
      "Root Mean Squared Error (RMSE): 13.8473\n"
     ]
    }
   ],
   "source": [
    "# Calculate predictions\n",
    "predictions = model.predict(X)\n",
    "\n",
    "# Calculate RMSE (Root Mean Squared Error)\n",
    "mse = np.mean((y - predictions) ** 2)\n",
    "rmse = np.sqrt(mse)\n",
    "\n",
    "print(f\"Root Mean Squared Error (RMSE): {rmse:.4f}\")\n"
   ]
  },
  {
   "cell_type": "code",
   "execution_count": 14,
   "metadata": {},
   "outputs": [
    {
     "name": "stdout",
     "output_type": "stream",
     "text": [
      "Alpha: 0.01, RMSE: 26.7938\n",
      "Alpha: 0.1, RMSE: 26.7938\n",
      "Alpha: 1.0, RMSE: 26.7938\n",
      "Alpha: 10.0, RMSE: 26.7938\n",
      "Alpha: 100.0, RMSE: 26.7938\n",
      "\n",
      "Best Alpha: 100.0, Best RMSE: 26.7938\n",
      "Final Ridge Regression RMSE: 26.7938\n"
     ]
    },
    {
     "data": {
      "image/png": "[encoded data removed]",
      "text/plain": [
       "<Figure size 1000x600 with 1 Axes>"
      ]
     },
     "metadata": {},
     "output_type": "display_data"
    }
   ],
   "source": [
    "# Import necessary libraries for Ridge regression\n",
    "import numpy as np\n",
    "from sklearn.linear_model import Ridge\n",
    "from sklearn.model_selection import train_test_split\n",
    "from sklearn.preprocessing import StandardScaler\n",
    "from sklearn.metrics import mean_squared_error\n",
    "\n",
    "# First, let's create a copy of the dataframe for our ridge regression\n",
    "ridge_df = train_df.clone()\n",
    "\n",
    "# Drop the original Episode_Length_minutes column\n",
    "if \"Episode_Length_minutes\" in ridge_df.columns:\n",
    "    ridge_df = ridge_df.drop(\"Episode_Length_minutes\")\n",
    "\n",
    "# Convert categorical columns to numerical using one-hot encoding\n",
    "categorical_columns = [\"Podcast_Name\", \"Episode_Title\", \"Genre\", \"Publication_Day\", \n",
    "                       \"Publication_Time\", \"Episode_Sentiment\"]\n",
    "\n",
    "# Create dummy variables for each categorical column\n",
    "for col in categorical_columns:\n",
    "    if col in ridge_df.columns:\n",
    "        # Get unique values\n",
    "        unique_values = ridge_df[col].unique().to_list()\n",
    "        \n",
    "        # Create dummy variables\n",
    "        for value in unique_values:\n",
    "            ridge_df = ridge_df.with_columns(\n",
    "                pl.when(pl.col(col) == value).then(1).otherwise(0).alias(f\"{col}_{value}\")\n",
    "            )\n",
    "        \n",
    "        # Drop the original categorical column\n",
    "        ridge_df = ridge_df.drop(col)\n",
    "\n",
    "median_guest_pop = ridge_df.filter(pl.col(\"Guest_Popularity_percentage\").is_not_null()).get_column(\"Guest_Popularity_percentage\").median()\n",
    "ridge_df = ridge_df.with_columns(\n",
    "    pl.when(pl.col(\"Guest_Popularity_percentage\").is_null())\n",
    "    .then(median_guest_pop)\n",
    "    .otherwise(pl.col(\"Guest_Popularity_percentage\"))\n",
    "    .alias(\"Guest_Popularity_percentage\")\n",
    ")\n",
    "\n",
    "# Impute Number_of_Ads (just 1 missing value) using mode\n",
    "mode_ads = ridge_df.filter(pl.col(\"Number_of_Ads\").is_not_null()).get_column(\"Number_of_Ads\").mode().to_list()[0]\n",
    "ridge_df = ridge_df.with_columns(\n",
    "    pl.when(pl.col(\"Number_of_Ads\").is_null())\n",
    "    .then(mode_ads)\n",
    "    .otherwise(pl.col(\"Number_of_Ads\"))\n",
    "    .alias(\"Number_of_Ads\")\n",
    ")\n",
    "\n",
    "\n",
    "# Drop nulls for the target variable\n",
    "ridge_df = ridge_df.drop_nulls(\"Listening_Time_minutes\")\n",
    "\n",
    "# Convert to pandas for sklearn\n",
    "pd_ridge_df = ridge_df.to_pandas()\n",
    "\n",
    "# Separate features and target\n",
    "y_ridge = pd_ridge_df[\"Listening_Time_minutes\"]\n",
    "X_ridge = pd_ridge_df.drop(columns=[\"Listening_Time_minutes\", \"id\"])\n",
    "\n",
    "# Split the data into training and testing sets\n",
    "X_train, X_test, y_train, y_test = train_test_split(X_ridge, y_ridge, test_size=0.2, random_state=42)\n",
    "\n",
    "# Standardize the features\n",
    "scaler = StandardScaler()\n",
    "X_train_scaled = scaler.fit_transform(X_train)\n",
    "X_test_scaled = scaler.transform(X_test)\n",
    "\n",
    "# Create and train the Ridge regression model\n",
    "alpha_values = [0.01, 0.1, 1.0, 10.0, 100.0]\n",
    "best_alpha = None\n",
    "best_rmse = float('inf')\n",
    "\n",
    "for alpha in alpha_values:\n",
    "    ridge_model = Ridge(alpha=alpha)\n",
    "    ridge_model.fit(X_train_scaled, y_train)\n",
    "    \n",
    "    # Make predictions\n",
    "    y_pred = ridge_model.predict(X_test_scaled)\n",
    "    \n",
    "    # Calculate RMSE\n",
    "    rmse = np.sqrt(mean_squared_error(y_test, y_pred))\n",
    "    \n",
    "    print(f\"Alpha: {alpha}, RMSE: {rmse:.4f}\")\n",
    "    \n",
    "    if rmse < best_rmse:\n",
    "        best_rmse = rmse\n",
    "        best_alpha = alpha\n",
    "\n",
    "print(f\"\\nBest Alpha: {best_alpha}, Best RMSE: {best_rmse:.4f}\")\n",
    "\n",
    "# Train the final model with the best alpha\n",
    "final_ridge_model = Ridge(alpha=best_alpha)\n",
    "final_ridge_model.fit(X_train_scaled, y_train)\n",
    "\n",
    "# Make predictions on the test set\n",
    "final_predictions = final_ridge_model.predict(X_test_scaled)\n",
    "\n",
    "# Calculate final RMSE\n",
    "final_rmse = np.sqrt(mean_squared_error(y_test, final_predictions))\n",
    "print(f\"Final Ridge Regression RMSE: {final_rmse:.4f}\")\n",
    "\n",
    "# Plot actual vs predicted values\n",
    "import matplotlib.pyplot as plt\n",
    "plt.figure(figsize=(10, 6))\n",
    "plt.scatter(y_test, final_predictions, alpha=0.5)\n",
    "plt.plot([y_test.min(), y_test.max()], [y_test.min(), y_test.max()], 'r--')\n",
    "plt.xlabel('Actual Listening Time')\n",
    "plt.ylabel('Predicted Listening Time')\n",
    "plt.title('Ridge Regression: Actual vs Predicted Listening Time')\n",
    "plt.grid(True)\n",
    "plt.show()\n"
   ]
  },
  {
   "cell_type": "code",
   "execution_count": null,
   "metadata": {},
   "outputs": [],
   "source": []
  }
 ],
 "metadata": {
  "kernelspec": {
   "display_name": "base",
   "language": "python",
   "name": "python3"
  },
  "language_info": {
   "codemirror_mode": {
    "name": "ipython",
    "version": 3
   },
   "file_extension": ".py",
   "mimetype": "text/x-python",
   "name": "python",
   "nbconvert_exporter": "python",
   "pygments_lexer": "ipython3",
   "version": "3.12.9"
  }
 },
 "nbformat": 4,
 "nbformat_minor": 2
}
